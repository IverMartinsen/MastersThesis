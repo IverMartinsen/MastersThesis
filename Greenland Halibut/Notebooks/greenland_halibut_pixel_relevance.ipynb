{
  "nbformat": 4,
  "nbformat_minor": 0,
  "metadata": {
    "colab": {
      "name": "halibut_pixel_relevance.ipynb",
      "provenance": [],
      "collapsed_sections": [],
      "mount_file_id": "1t9xMFwsyW4cpxk58I3xNElFKJeATetHZ",
      "authorship_tag": "ABX9TyOhEBq7Z7dudjcg4NmyhO9Y",
      "include_colab_link": true
    },
    "kernelspec": {
      "name": "python3",
      "display_name": "Python 3"
    },
    "language_info": {
      "name": "python"
    },
    "accelerator": "GPU"
  },
  "cells": [
    {
      "cell_type": "markdown",
      "metadata": {
        "id": "view-in-github",
        "colab_type": "text"
      },
      "source": [
        "<a href=\"https://colab.research.google.com/github/IverMartinsen/MastersThesis/blob/main/Notebooks/greenland_halibut_pixel_relevance.ipynb\" target=\"_parent\"><img src=\"https://colab.research.google.com/assets/colab-badge.svg\" alt=\"Open In Colab\"/></a>"
      ]
    },
    {
      "cell_type": "markdown",
      "metadata": {
        "id": "cfL_k8S_dnJC"
      },
      "source": [
        "###This notebook shows feature relevance attributions methods applied on the Greenland halibut model.\n",
        "-----------------------------------------------------------------------------------------------------"
      ]
    },
    {
      "cell_type": "markdown",
      "metadata": {
        "id": "gw7-ivued33S"
      },
      "source": [
        "Clone repository to gain access to modules."
      ]
    },
    {
      "cell_type": "code",
      "metadata": {
        "id": "VlpgdSx5ypPi"
      },
      "source": [
        "!git clone https://github.com/IverMartinsen/MastersThesis.git"
      ],
      "execution_count": null,
      "outputs": []
    },
    {
      "cell_type": "markdown",
      "metadata": {
        "id": "4tJq_k8RDajy"
      },
      "source": [
        "Import modules and load images and variables."
      ]
    },
    {
      "cell_type": "code",
      "metadata": {
        "id": "GocXZYN3zBW6"
      },
      "source": [
        "import sys\n",
        "\n",
        "sys.path.append('/content/MastersThesis/Python')"
      ],
      "execution_count": null,
      "outputs": []
    },
    {
      "cell_type": "code",
      "metadata": {
        "id": "JvF5CdJQIaiH"
      },
      "source": [
        "import tensorflow as tf\n",
        "import matplotlib.pyplot as plt\n",
        "import numpy as np\n",
        "from PIL import Image\n",
        "import pandas as pd\n",
        "from modules.image import normalize\n",
        "from modules.analysis.guided_backpropagation import build_gb_model_nonseq\n",
        "from modules.analysis.integrated_gradients import generate_path_inputs, integral_approximation\n",
        "\n",
        "# Load pretrained model\n",
        "model = tf.keras.models.load_model('/content/drive/Othercomputers/Min bærbare datamaskin/UiT/Forberedende forsøk/testrun8_exception')\n",
        "\n",
        "# Load dataframe\n",
        "df = pd.read_csv('/content/drive/Othercomputers/Min bærbare datamaskin/UiT/Data/Grønlandskveiteotolitter/dataframe.csv')\n",
        "\n",
        "# Idxs for complete data\n",
        "idx = np.where(np.isnan(df['length']) == False)[0]\n",
        "\n",
        "# Drop NaNs from dataframe\n",
        "df = df.dropna()\n",
        "\n",
        "# Load images\n",
        "images = np.load('/content/drive/MyDrive/images256.npy')[idx]"
      ],
      "execution_count": null,
      "outputs": []
    },
    {
      "cell_type": "markdown",
      "metadata": {
        "id": "ZwMAcQR02O-v"
      },
      "source": [
        "Define functions for computing integrated gradients."
      ]
    },
    {
      "cell_type": "code",
      "metadata": {
        "id": "HKinwte46_jK"
      },
      "source": [
        "def compute_gradients(inputs):\n",
        "    with tf.GradientTape() as tape:\n",
        "        tape.watch(inputs)\n",
        "        outputs = model(inputs)\n",
        "\n",
        "    return tape.gradient(outputs, inputs)\n",
        "\n",
        "@tf.function\n",
        "def integrated_gradients(baseline,\n",
        "                         image,\n",
        "                         sex, \n",
        "                         m_steps=50):\n",
        "\n",
        "    # Generate sequence of alphas.\n",
        "    alphas = tf.linspace(start=0.0, stop=1.0, num=m_steps+1)\n",
        "\n",
        "    # Generate interpolated images between baseline and input image.\n",
        "    interpolated_path_input_batch = generate_path_inputs(\n",
        "        baseline=baseline,\n",
        "        image=image,\n",
        "        alphas=alphas)\n",
        "    \n",
        "    # Compute gradients for model output wrt batch of interpolated images. \n",
        "    gradient_batch = compute_gradients((tf.constant(sex, shape=(m_steps+1, )), interpolated_path_input_batch))[1]\n",
        "\n",
        "    # Integral approximation through averaging gradients.\n",
        "    avg_gradients = integral_approximation(gradients=gradient_batch)\n",
        "    \n",
        "    # Scale integrated gradients with respect to input.\n",
        "    integrated_gradients = tf.cast(\n",
        "        image - baseline, avg_gradients.dtype) * avg_gradients\n",
        "\n",
        "    return tf.reduce_sum(integrated_gradients, axis=2)\n"
      ],
      "execution_count": null,
      "outputs": []
    },
    {
      "cell_type": "markdown",
      "metadata": {
        "id": "Z6SFviNYff0n"
      },
      "source": [
        "Define model for computing feature relevance using guided backpropagation."
      ]
    },
    {
      "cell_type": "code",
      "metadata": {
        "id": "aIJy70JnJisE"
      },
      "source": [
        "# Create layer for mapping categorical labels to int\n",
        "Index = tf.keras.layers.StringLookup()\n",
        "# Fit index layer on training data\n",
        "Index.adapt(tf.constant(df['sex']))\n",
        "\n",
        "# Create layer for one-hot-encoding the categorical labels\n",
        "Encoding = tf.keras.layers.CategoryEncoding(num_tokens=Index.vocabulary_size(), output_mode='one_hot')\n",
        "\n",
        "# Define pretrained base model without classification head. Use global average pooling on output.\n",
        "base_model = tf.keras.applications.xception.Xception(input_shape=model.input_shape[1][1:], include_top=False, pooling='avg')\n",
        "gb_base_model = build_gb_model_nonseq(base_model, tf.keras.layers.Activation)\n",
        "\n",
        "# Define full model. Note that by setting training=False in the base model\n",
        "# we always run the model in inference mode. \n",
        "img_input = tf.keras.layers.Input(model.input_shape[1][1:])\n",
        "cat_input = tf.keras.Input(shape=(1,), name='gender', dtype='string')\n",
        "\n",
        "gender = Encoding(Index(cat_input))\n",
        "\n",
        "# First we process the images\n",
        "x = tf.keras.applications.xception.preprocess_input(img_input)\n",
        "x = tf.keras.layers.RandomTranslation(0, 0.1)(x)\n",
        "x = tf.keras.layers.RandomRotation(0.1, fill_mode='constant')(x)\n",
        "x = gb_base_model(x, training=False)\n",
        "x = tf.keras.layers.Dropout(0.2)(x)\n",
        "x = tf.keras.layers.Dense(3, 'relu')(x)\n",
        "# Then we us multiplication to get the gender conditional age predictions \n",
        "outputs = tf.keras.layers.Dot(axes=1)([x, gender])\n",
        "# Finally we concatenate the age prediction with the one-hot sex matrix\n",
        "gb_model = tf.keras.models.Model([cat_input, img_input], outputs)\n",
        "\n",
        "# Transfer weights from pretrained model to gb model\n",
        "gb_model.set_weights(model.get_weights())"
      ],
      "execution_count": null,
      "outputs": []
    },
    {
      "cell_type": "markdown",
      "metadata": {
        "id": "xXtvkvr82W9h"
      },
      "source": [
        "Define function for obtaining pixel relevance attributions by guided backpropagation."
      ]
    },
    {
      "cell_type": "code",
      "metadata": {
        "id": "9TbLa2VoSktA"
      },
      "source": [
        "def compute_gb_gradients(inputs):\n",
        "    with tf.GradientTape() as tape:\n",
        "        tape.watch(inputs)\n",
        "        outputs = gb_model(inputs)\n",
        "\n",
        "    return tape.gradient(outputs, inputs)"
      ],
      "execution_count": null,
      "outputs": []
    },
    {
      "cell_type": "markdown",
      "metadata": {
        "id": "AJ-422GBxC3C"
      },
      "source": [
        "Choose image to use for analysis and save indices with age and filename"
      ]
    },
    {
      "cell_type": "code",
      "metadata": {
        "id": "bWozQ-lJQ0WL"
      },
      "source": [
        "# Idxs of images for ages 1, 2, ..., 26\n",
        "idxs = np.array(\n",
        "    [855, 121, 46, 62, 38, 56, 24, 7, 13, 3, 14, 1, 0, 36, 765, 753, 738, 906, 544, 563, 496, 921, 1242, 969, 916, 970]\n",
        "    )\n",
        "\n",
        "# Create input tuple for making predictions\n",
        "inputs = (tf.convert_to_tensor(df['sex'].iloc[idxs]), tf.constant(images[idxs]))\n",
        "\n",
        "# Age predicted by the model\n",
        "preds = model.predict(inputs).round().astype(int).flatten()\n",
        "\n",
        "# Save referances in a csv-file\n",
        "pd.DataFrame({'filename': df.iloc[idxs]['filename'],\n",
        "              'age': df.iloc[idxs]['age'],\n",
        "              'predicted_age': preds,\n",
        "              'index': idxs}).to_csv('file_selection.csv')"
      ],
      "execution_count": null,
      "outputs": []
    },
    {
      "cell_type": "markdown",
      "metadata": {
        "id": "QuTmANIgzo52"
      },
      "source": [
        "Compute pixel relevance for selection using 5 different methods"
      ]
    },
    {
      "cell_type": "code",
      "metadata": {
        "id": "S4bgdjcIzn5-"
      },
      "source": [
        "# Create input tuple of relevant data\n",
        "inputs = (tf.convert_to_tensor(df['sex'].iloc[idxs]), tf.constant(images[idxs]))\n",
        "\n",
        "# Create baseline images\n",
        "baseline = tf.constant(0, shape=inputs[1].shape[1:], dtype=tf.float32)\n",
        "\n",
        "# Relevance by gradients\n",
        "vanilla_gradients = np.sum(compute_gradients(inputs)[1], axis=3)\n",
        "\n",
        "# Relevance by baseline gradients\n",
        "baseline_gradients = np.sum(inputs[1], axis=3) * vanilla_gradients\n",
        "\n",
        "# Relevance by guided backpropagation\n",
        "gb_gradients = np.sum(compute_gb_gradients(inputs)[1], axis=3)\n",
        "\n",
        "# Relevance by integrated gradients\n",
        "int_gradients = np.zeros(shape=inputs[1].shape[:-1])\n",
        "for i in range(len(idxs)):\n",
        "    int_gradients[i] = integrated_gradients(baseline, inputs[1][i], inputs[0][i].numpy())\n",
        "\n",
        "# Relevance by guided integrated gradients\n",
        "int_gb_gradients = np.zeros(shape=inputs[1].shape[:-1])\n",
        "for i in range(len(idxs)):\n",
        "    int_gb_gradients[i] = integrated_gradients(baseline, inputs[1][i], inputs[0][i].numpy())"
      ],
      "execution_count": null,
      "outputs": []
    },
    {
      "cell_type": "markdown",
      "metadata": {
        "id": "GDOjiyT2z0lE"
      },
      "source": [
        "Plot selection along with pixel relevance"
      ]
    },
    {
      "cell_type": "code",
      "metadata": {
        "id": "btbtfpFazzzw"
      },
      "source": [
        "# Draw images in a 4-by-7 grid\n",
        "fig, axes = plt.subplots(4, 7, facecolor='black')\n",
        "\n",
        "for i, ax in enumerate(axes.flatten()):\n",
        "    try:\n",
        "        # Draw integrated gradient image\n",
        "        ax.imshow(normalize(np.abs(int_gradients[i])), plt.cm.hot)\n",
        "        # Superimpose original image\n",
        "        ax.imshow(images[idxs[i]]/255., alpha=0.2)\n",
        "        # Add text with age\n",
        "        ax.text(0, 0, f'{str(i+1)} ({preds[i]})', color = 'white', size=4)\n",
        "    except IndexError:\n",
        "        pass\n",
        "    ax.axis('off')\n",
        "\n",
        "# Save figure\n",
        "plt.savefig(\n",
        "    'selection.jpg', \n",
        "    dpi=300, \n",
        "    bbox_inches=\"tight\", \n",
        "    facecolor='black')"
      ],
      "execution_count": null,
      "outputs": []
    },
    {
      "cell_type": "markdown",
      "metadata": {
        "id": "0pr8nV0T0ARj"
      },
      "source": [
        "Draw comparison using a small subset of images"
      ]
    },
    {
      "cell_type": "code",
      "metadata": {
        "id": "L8EY2WYzz_SA"
      },
      "source": [
        "# Collect image arrays in tuple\n",
        "methods = (inputs[1]/255., vanilla_gradients, baseline_gradients, gb_gradients, int_gradients, int_gb_gradients)\n",
        "\n",
        "# Define column titles\n",
        "titles = ('Original\\n\\n', 'Gradients\\n\\n', 'Baseline\\nGradients\\n', 'Guided\\nBackpropagation\\n', 'Integrated\\nGradients\\n', 'Integrated\\nGuided\\nGradients')\n",
        "\n",
        "# Choose colormap\n",
        "cmap = plt.cm.hot\n",
        "\n",
        "# Subset of images (age - 1)\n",
        "selection = [1, 6, 15, 24]\n",
        "\n",
        "# Draw images in a 4-by-6 grid\n",
        "fig, axes = plt.subplots(4, 6, facecolor='black')\n",
        "\n",
        "for i in range(4):\n",
        "    for j in range(6):\n",
        "        axes[i][j].imshow(normalize(np.abs(methods[j][selection[i]])), cmap)\n",
        "        axes[i][j].axis('off')\n",
        "        if i == 0:\n",
        "            axes[i][j].set_title(titles[j], color='white', size=5)\n",
        "        if j == 0:\n",
        "            axes[i][j].text(1, 1, str(selection[i] + 1), color='white', size = 5)\n",
        "\n",
        "plt.subplots_adjust(wspace=-0.3, hspace=0.1)\n",
        "\n",
        "plt.savefig(\n",
        "    'comparison.jpg', \n",
        "    dpi=300,\n",
        "    facecolor='black',\n",
        "    bbox_inches=\"tight\")"
      ],
      "execution_count": null,
      "outputs": []
    }
  ]
}