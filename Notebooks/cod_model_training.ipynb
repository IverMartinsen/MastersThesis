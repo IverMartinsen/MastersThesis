{
  "nbformat": 4,
  "nbformat_minor": 0,
  "metadata": {
    "accelerator": "GPU",
    "colab": {
      "name": "build_model.ipynb",
      "provenance": [],
      "collapsed_sections": [],
      "mount_file_id": "https://github.com/IverMartinsen/MastersThesis/blob/main/Notebooks/cod_model_training.ipynb",
      "authorship_tag": "ABX9TyM356XYyudDYg2Bu8iKuUVN",
      "include_colab_link": true
    },
    "kernelspec": {
      "display_name": "Python 3 (ipykernel)",
      "language": "python",
      "name": "python3"
    },
    "language_info": {
      "codemirror_mode": {
        "name": "ipython",
        "version": 3
      },
      "file_extension": ".py",
      "mimetype": "text/x-python",
      "name": "python",
      "nbconvert_exporter": "python",
      "pygments_lexer": "ipython3",
      "version": "3.8.10"
    }
  },
  "cells": [
    {
      "cell_type": "markdown",
      "metadata": {
        "id": "view-in-github",
        "colab_type": "text"
      },
      "source": [
        "<a href=\"https://colab.research.google.com/github/IverMartinsen/MastersThesis/blob/main/Notebooks/cod_model_training.ipynb\" target=\"_parent\"><img src=\"https://colab.research.google.com/assets/colab-badge.svg\" alt=\"Open In Colab\"/></a>"
      ]
    },
    {
      "cell_type": "markdown",
      "metadata": {
        "id": "gYUZQuJJY2yy"
      },
      "source": [
        "###This notebook shows the model training of a CNN fitted to the cod otolith data.\n",
        "-----------------------------------------------------------------------------------"
      ]
    },
    {
      "cell_type": "markdown",
      "source": [
        "Clone GitHub repository"
      ],
      "metadata": {
        "id": "4wZAQxFDE4XO"
      }
    },
    {
      "cell_type": "code",
      "source": [
        "!git clone https://github.com/IverMartinsen/MastersThesis.git"
      ],
      "metadata": {
        "id": "sEcSK9RyEdtN"
      },
      "execution_count": null,
      "outputs": []
    },
    {
      "cell_type": "markdown",
      "metadata": {
        "id": "GZt1T8M8FW1f"
      },
      "source": [
        "Import modules"
      ]
    },
    {
      "cell_type": "code",
      "metadata": {
        "id": "9K3lMXE5EalB"
      },
      "source": [
        "import sys\n",
        "sys.path.append('/content/MastersThesis/Python')\n",
        "\n",
        "import tensorflow as tf\n",
        "import matplotlib.pyplot as plt\n",
        "from modules.imageloader import load_images\n",
        "from modules.utils import normalize\n",
        "from modules.analysis.guided_backpropagation import build_gb_model_nonseq\n",
        "from tensorflow.keras.layers import GlobalAveragePooling2D, Dropout,Dense\n",
        "from tensorflow.keras.applications.xception import preprocess_input\n",
        "import numpy as np"
      ],
      "execution_count": null,
      "outputs": []
    },
    {
      "cell_type": "markdown",
      "metadata": {
        "id": "S0z53w4qFUYp"
      },
      "source": [
        "Import images and set variables\n"
      ]
    },
    {
      "cell_type": "code",
      "metadata": {
        "id": "G6BGhEEHGJGa"
      },
      "source": [
        "img_size = (128, 128)\n",
        "img_shape = img_size + (3,)\n",
        "initial_epochs = 100\n",
        "batch_size = 32\n",
        "path_to_files = '/content/drive/MyDrive/Torskeotolitter/standard'\n",
        "\n",
        "train_ds, valid_ds = load_images(\n",
        "    path_to_files, img_size, splits=(0.8, 0.2), seed=123, mode='RGB'\n",
        "    )"
      ],
      "execution_count": null,
      "outputs": []
    },
    {
      "cell_type": "markdown",
      "metadata": {
        "id": "ObH3cJhvG3jJ"
      },
      "source": [
        "Build a new model"
      ]
    },
    {
      "cell_type": "code",
      "metadata": {
        "id": "yCU89J7SG8ZA"
      },
      "source": [
        "base_model = tf.keras.applications.Xception(\n",
        "    input_shape=img_shape,\n",
        "    include_top=False,\n",
        "    weights='imagenet'\n",
        "    )\n",
        "\n",
        "# Freeze layers in base model\n",
        "for layer in base_model.layers:\n",
        "    layer.trainable = False\n",
        "\n",
        "inputs = tf.keras.Input(img_shape)\n",
        "x = preprocess_input(inputs)\n",
        "# Set training=False to freeze batch normalization weights\n",
        "x = base_model(x, training=False)\n",
        "x = GlobalAveragePooling2D()(x)\n",
        "x = Dropout(0.2)(x)\n",
        "# Important! Use a single output with 'sigmoid' activation for normal training.\n",
        "# If input is to be analyzed by Guided Backpropagation using a baseline class,\n",
        "# set number of output units to 3 with 'softmax' activation.\n",
        "outputs = Dense(1, 'sigmoid')(x)\n",
        "\n",
        "model = tf.keras.Model(inputs, outputs)\n",
        "# Note! Use binary cross-entropy for single outputs and categorical cross-entropy for\n",
        "# multiple outputs.\n",
        "model.compile(\n",
        "    tf.keras.optimizers.Adam(1e-3),\n",
        "    loss=tf.keras.losses.BinaryCrossentropy(),\n",
        "    metrics='accuracy'\n",
        "    )"
      ],
      "execution_count": null,
      "outputs": []
    },
    {
      "cell_type": "markdown",
      "metadata": {
        "id": "KeQCA2yFJ_zg"
      },
      "source": [
        "Fit the new model"
      ]
    },
    {
      "cell_type": "code",
      "metadata": {
        "id": "oX5__PCTKDhQ"
      },
      "source": [
        "callbacks = [tf.keras.callbacks.EarlyStopping(patience=20, restore_best_weights=True)]\n",
        "\n",
        "# train only the top layer\n",
        "history = model.fit(\n",
        "    train_ds['images'], \n",
        "    train_ds['labels'],\n",
        "    batch_size=batch_size,\n",
        "    epochs=initial_epochs,\n",
        "    callbacks=callbacks,\n",
        "    validation_data=(valid_ds['images'], valid_ds['labels'])\n",
        ")\n",
        "\n",
        "# fine tune the model using a small learning rate\n",
        "base_model.trainable = True\n",
        "\n",
        "# Note! Use binary cross-entropy for single outputs and categorical cross-entropy for\n",
        "# multiple outputs.\n",
        "model.compile(    \n",
        "    tf.keras.optimizers.Adam(1e-5),\n",
        "    loss=tf.keras.losses.BinaryCrossentropy(),\n",
        "    metrics='accuracy')\n",
        "\n",
        "history_fine = model.fit(\n",
        "    train_ds['images'],\n",
        "    train_ds['labels'],\n",
        "    batch_size=batch_size,\n",
        "    epochs=100,\n",
        "    callbacks=callbacks,\n",
        "    validation_data=(valid_ds['images'], valid_ds['labels'])\n",
        ")"
      ],
      "execution_count": null,
      "outputs": []
    },
    {
      "cell_type": "markdown",
      "metadata": {
        "id": "8qsqXtaFOYgO"
      },
      "source": [
        "Save model"
      ]
    },
    {
      "cell_type": "code",
      "metadata": {
        "id": "3oh8EJ3qmbBm"
      },
      "source": [
        "model.save('/content/drive/MyDrive/Saved models/cod_model_' + tf.__version__)"
      ],
      "execution_count": null,
      "outputs": []
    },
    {
      "cell_type": "markdown",
      "metadata": {
        "id": "9Ic3KBXbI8vd"
      },
      "source": [
        "Build Guided Backpropagation model using weights from the trained model"
      ]
    },
    {
      "cell_type": "code",
      "metadata": {
        "id": "SoEFM5u6VoGn"
      },
      "source": [
        "gb_base_model = build_gb_model_nonseq(base_model, tf.keras.layers.Activation)\n",
        "\n",
        "inputs = tf.keras.Input(img_shape)\n",
        "x = preprocess_input(inputs)\n",
        "x = gb_base_model(x, training=False)\n",
        "x = GlobalAveragePooling2D()(x)\n",
        "x = Dropout(0.2)(x)\n",
        "outputs = Dense(3, 'softmax')(x)\n",
        "\n",
        "gb_model = tf.keras.Model(inputs, outputs)\n",
        "\n",
        "gb_model.compile(    \n",
        "    tf.keras.optimizers.Adam(1e-5),\n",
        "    loss=tf.keras.losses.SparseCategoricalCrossentropy(),\n",
        "    metrics='accuracy')\n",
        "\n",
        "# Load the weights from trained model\n",
        "gb_model.set_weights(model.get_weights())"
      ],
      "execution_count": null,
      "outputs": []
    },
    {
      "cell_type": "markdown",
      "metadata": {
        "id": "HgYT0AgCxDeZ"
      },
      "source": [
        "Save Guided Backpropagation model"
      ]
    },
    {
      "cell_type": "code",
      "metadata": {
        "id": "0oquh_iXw7L_"
      },
      "source": [
        "gb_model.save('/content/drive/MyDrive/Artikkel om torskeotolitter/Saved models/Xception_' + tf.__version__ + '_gb')"
      ],
      "execution_count": null,
      "outputs": []
    }
  ]
}