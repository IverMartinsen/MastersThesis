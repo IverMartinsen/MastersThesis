{
  "nbformat": 4,
  "nbformat_minor": 0,
  "metadata": {
    "colab": {
      "name": "greenland_halibut_sex_classification.ipynb",
      "provenance": [],
      "collapsed_sections": [],
      "mount_file_id": "11IwflzJWRRyJdV_Mzt7OUdfisSZe9OkY",
      "authorship_tag": "ABX9TyPKCoAw2//lz7OKEsRtDEgo",
      "include_colab_link": true
    },
    "kernelspec": {
      "display_name": "Python 3 (ipykernel)",
      "language": "python",
      "name": "python3"
    },
    "language_info": {
      "codemirror_mode": {
        "name": "ipython",
        "version": 3
      },
      "file_extension": ".py",
      "mimetype": "text/x-python",
      "name": "python",
      "nbconvert_exporter": "python",
      "pygments_lexer": "ipython3",
      "version": "3.8.10"
    },
    "accelerator": "GPU"
  },
  "cells": [
    {
      "cell_type": "markdown",
      "metadata": {
        "id": "view-in-github",
        "colab_type": "text"
      },
      "source": [
        "<a href=\"https://colab.research.google.com/github/IverMartinsen/MastersThesis/blob/main/Notebooks/greenland_halibut_sex_classification.ipynb\" target=\"_parent\"><img src=\"https://colab.research.google.com/assets/colab-badge.svg\" alt=\"Open In Colab\"/></a>"
      ]
    },
    {
      "cell_type": "markdown",
      "metadata": {
        "id": "7xQKXcr-WpUR"
      },
      "source": [
        "Import modules"
      ]
    },
    {
      "cell_type": "code",
      "metadata": {
        "id": "PSpD5OSCrKTZ"
      },
      "source": [
        "import sys\n",
        "\n",
        "sys.path.append('/content/drive/Othercomputers/Min bærbare datamaskin/UiT/src/Python/modules')\n",
        "\n",
        "import pandas as pd\n",
        "import tensorflow as tf\n",
        "import numpy as np\n",
        "from stratified_idxs import stratified_idxs"
      ],
      "execution_count": null,
      "outputs": []
    },
    {
      "cell_type": "markdown",
      "metadata": {
        "id": "PRL778d0X9-4"
      },
      "source": [
        "Load features, i.e. age, sex and length"
      ]
    },
    {
      "cell_type": "code",
      "metadata": {
        "id": "h8-XeTupr-Jc"
      },
      "source": [
        "# Load dataframe of features\n",
        "df = pd.read_csv('/content/drive/Othercomputers/Min bærbare datamaskin/UiT/Data/Grønlandskveiteotolitter/dataframe.csv')\n",
        "\n",
        "# Locate data points with complete set of features\n",
        "notna = np.all(np.array(df.notna()), axis = 1)\n",
        "\n",
        "# Drop data with incomplete set of features\n",
        "df = df.dropna()"
      ],
      "execution_count": null,
      "outputs": []
    },
    {
      "cell_type": "markdown",
      "metadata": {
        "id": "Du3wHKN-ZAh3"
      },
      "source": [
        "Load images"
      ]
    },
    {
      "cell_type": "code",
      "metadata": {
        "id": "O110AQ2_ZBvs"
      },
      "source": [
        "# Only use images with complete set of features\n",
        "images = np.load('/content/drive/MyDrive/images128.npy')[notna]\n",
        "image_size = images.shape[1:3]"
      ],
      "execution_count": null,
      "outputs": []
    },
    {
      "cell_type": "markdown",
      "metadata": {
        "id": "Syg_q8s3mgHl"
      },
      "source": [
        "Create subsets for training, validation and testing"
      ]
    },
    {
      "cell_type": "code",
      "metadata": {
        "id": "54XSqpHBYx6L"
      },
      "source": [
        "# Create stratified indices for selecting datasets for training etc.\n",
        "train_idx, valid_idx, test_idx = stratified_idxs(df['age'], (0.6, 0.2, 0.2), seed=123)\n",
        "\n",
        "# Create utility function for creating datasets compatible with tensorflow\n",
        "set_from_idx = lambda idx : (tf.convert_to_tensor(df['sex'].iloc[idx]), images[idx])\n",
        "\n",
        "# Create stratified subsets for training, validation and testing\n",
        "y_tr = (df['sex'].iloc[train_idx] == 'male')*1\n",
        "y_va = (df['sex'].iloc[valid_idx] == 'male')*1\n",
        "y_te = (df['sex'].iloc[test_idx] == 'male')*1\n",
        "\n",
        "ds_train = tf.data.Dataset.from_tensor_slices((images[train_idx], y_tr)).shuffle(len(train_idx)).batch(32)\n",
        "ds_valid = tf.data.Dataset.from_tensor_slices((images[valid_idx], y_va)).batch(32)\n",
        "ds_test = tf.data.Dataset.from_tensor_slices((images[test_idx], y_te)).batch(32)\n",
        "\n",
        "f_tr = df['filename'].iloc[train_idx]\n",
        "f_va = df['filename'].iloc[valid_idx]\n",
        "f_te = df['filename'].iloc[test_idx]"
      ],
      "execution_count": null,
      "outputs": []
    },
    {
      "cell_type": "markdown",
      "metadata": {
        "id": "JS-O4LUIoAya"
      },
      "source": [
        "Define model"
      ]
    },
    {
      "cell_type": "code",
      "metadata": {
        "id": "kFcyodGBCcwV"
      },
      "source": [
        "# Define pretrained base model without classification head. Use global average pooling on output.\n",
        "base_model = tf.keras.applications.Xception(\n",
        "    input_shape=image_size + (3, ), \n",
        "    include_top=False,\n",
        "    pooling='avg')\n",
        "\n",
        "for layer in base_model.layers:\n",
        "    layer.trainable=False\n",
        "\n",
        "# Define full model. Note that by setting training=False in the base model\n",
        "# we always run the model in inference mode. \n",
        "inputs = tf.keras.layers.Input(image_size + (3, ))\n",
        "\n",
        "# First we process the images\n",
        "x = tf.keras.applications.xception.preprocess_input(inputs)\n",
        "x = tf.keras.layers.RandomTranslation(0, 0.1)(x)\n",
        "x = tf.keras.layers.RandomRotation(0.1, fill_mode='constant')(x)\n",
        "x = base_model(x, training=False)\n",
        "#x = tf.keras.layers.Dropout(0.2)(x)\n",
        "outputs = tf.keras.layers.Dense(1, 'sigmoid')(x)\n",
        "\n",
        "model = tf.keras.models.Model(inputs, outputs)"
      ],
      "execution_count": null,
      "outputs": []
    },
    {
      "cell_type": "markdown",
      "metadata": {
        "id": "eGi4bptbqrj0"
      },
      "source": [
        "Compile and fit model"
      ]
    },
    {
      "cell_type": "code",
      "metadata": {
        "id": "b_SJvLBoH_pM"
      },
      "source": [
        "# Compile model using custom loss function\n",
        "model.compile(tf.keras.optimizers.Adam(1e-3), tf.keras.losses.BinaryCrossentropy())\n",
        "\n",
        "# Apply early stopping\n",
        "callbacks = tf.keras.callbacks.EarlyStopping(patience=20, restore_best_weights=True)\n",
        "\n",
        "# Fit model\n",
        "model.fit(\n",
        "    ds_train,\n",
        "    epochs=100,\n",
        "    validation_data=ds_valid,\n",
        "    callbacks = callbacks\n",
        "    )"
      ],
      "execution_count": null,
      "outputs": []
    },
    {
      "cell_type": "markdown",
      "metadata": {
        "id": "S4etQgMNreT5"
      },
      "source": [
        "Evaluate on test set"
      ]
    },
    {
      "cell_type": "code",
      "metadata": {
        "id": "8oiNk3zOrgPT"
      },
      "source": [
        "model.evaluate(ds_test)\n",
        "tf.keras.metrics.binary_accuracy(np.array(y_te), model.predict(ds_test).flatten().round())"
      ],
      "execution_count": null,
      "outputs": []
    },
    {
      "cell_type": "code",
      "metadata": {
        "id": "-Gyhh3cCS3ea"
      },
      "source": [
        "model.predict(ds_test).flatten().round()"
      ],
      "execution_count": null,
      "outputs": []
    },
    {
      "cell_type": "code",
      "metadata": {
        "id": "gP3l2Fk3mbB8"
      },
      "source": [
        "y_tr = df['age'].iloc[train_idx]\n",
        "y_va = df['age'].iloc[valid_idx]\n",
        "y_te = df['age'].iloc[test_idx]"
      ],
      "execution_count": null,
      "outputs": []
    },
    {
      "cell_type": "markdown",
      "metadata": {
        "id": "Yuh-wccnrPwK"
      },
      "source": [
        "Predict age by length"
      ]
    },
    {
      "cell_type": "code",
      "metadata": {
        "id": "4kfdRL4LrUuS"
      },
      "source": [
        "# Define loss function to be minimized as function of parameters\n",
        "loss_by_length = lambda params: tf.reduce_mean(\n",
        "    (y_tr - params[0] + tf.math.log(1 - df['length'].iloc[train_idx]/params[1])/params[2])**2).numpy()\n",
        "\n",
        "# Find optimal set of parameters\n",
        "params = minimize(loss_by_length, (1, 10000, 1)).x\n",
        "\n",
        "# Define function that takes length as input and returns age\n",
        "age_by_length = lambda params: lambda length: tf.cast(params[0] - tf.math.log(1 - length/params[1])/params[2], tf.float32).numpy()\n",
        "\n",
        "# Predict age by length of test set\n",
        "y2 = age_by_length(params)(df['length'].iloc[test_idx])"
      ],
      "execution_count": null,
      "outputs": []
    },
    {
      "cell_type": "markdown",
      "metadata": {
        "id": "iAUwpPGbsZEm"
      },
      "source": [
        "Predict age by a weighted sum of y1 and y2"
      ]
    },
    {
      "cell_type": "code",
      "metadata": {
        "id": "KxRXw6q7sf9d"
      },
      "source": [
        "# Column of ones with length equal to number of training samples\n",
        "z0 = tf.constant(1, shape=train_idx.shape, dtype=tf.float32)\n",
        "# Age of training samples predicted by the model\n",
        "z1 = model.predict(set_from_idx(train_idx))[:, 0]\n",
        "# Age of training samples predicted by length\n",
        "z2 = age_by_length(params)(df['length'].iloc[train_idx])\n",
        "# Design matrix based on training samples\n",
        "z = tf.stack([z0, z1, z2], axis = 1)\n",
        "# Weights of the linear model\n",
        "w = tf.matmul(\n",
        "    tf.matmul(\n",
        "        tf.linalg.inv(\n",
        "            tf.linalg.matmul(\n",
        "                tf.transpose(z), z)), tf.transpose(z)), tf.cast(tf.reshape(y_tr, (-1, 1)), tf.float32))\n",
        "\n",
        "# Column of ones with length equal to the number of test samples\n",
        "y0 = tf.constant(1, shape=y1.shape, dtype=tf.float32)\n",
        "# Age predictions for the test set\n",
        "y3 = tf.matmul(tf.stack((y0, y1, y2), axis=1), w).numpy().reshape(-1)"
      ],
      "execution_count": null,
      "outputs": []
    },
    {
      "cell_type": "markdown",
      "metadata": {
        "id": "bY7a_tBoXDpG"
      },
      "source": [
        "Print loss and accuracy for each sex on the test set"
      ]
    },
    {
      "cell_type": "code",
      "metadata": {
        "id": "QoYxchIa7oqZ"
      },
      "source": [
        "names = ('Deep Learning', 'Length', 'Both')\n",
        "\n",
        "# Filename for summary statistics\n",
        "filename = '/content/drive/Othercomputers/Min bærbare datamaskin/UiT/output.txt'\n",
        "\n",
        "# Write summary statistics to file\n",
        "with open(filename, 'w') as f:\n",
        "    for j, predictions in enumerate((y1, y2, y3)):\n",
        "        print(names[j] + '\\n', file=f)\n",
        "\n",
        "        print(f'Number of samples: {len(y_te)}', file=f)\n",
        "        print(f'Loss: {tf.keras.losses.mean_squared_error(y_te, predictions).numpy():.4f}', file=f)\n",
        "\n",
        "        for i in range(3):\n",
        "            print(f'{i}-off accuracy: {np.sum(np.abs(predictions.round() - y_te) <= i)*100 / len(y_te):.2f} %', file=f)\n",
        "        print('----------------------------------------------', file=f)\n",
        "\n",
        "        for sex in ['male', 'female']:\n",
        "            idx = np.where(df.iloc[test_idx]['sex'] == sex)[0]\n",
        "\n",
        "            print(f'Number of {sex} samples: {len(idx)}', file=f)\n",
        "            print(f'{sex} loss: {tf.keras.losses.mean_squared_error(y_te.iloc[idx], predictions[idx]).numpy():.4f}', file=f)\n",
        "\n",
        "            for i in range(3):\n",
        "                print(f'{i}-off accuracy: {np.sum(np.abs(predictions.round()[idx] - y_te.iloc[idx]) <= i)*100 / len(y_te.iloc[idx]):.2f} %', file=f)\n",
        "            print('----------------------------------------------', file=f)\n",
        "        print('\\n', file=f)\n",
        "\n",
        "# Print content of file\n",
        "with open(filename, 'r') as f:\n",
        "    print(f.read())"
      ],
      "execution_count": null,
      "outputs": []
    },
    {
      "cell_type": "markdown",
      "metadata": {
        "id": "yXc7HOxdgCQh"
      },
      "source": [
        "Save predictions to csv file"
      ]
    },
    {
      "cell_type": "code",
      "metadata": {
        "id": "wwZOSGUP9rUb"
      },
      "source": [
        "# Save design matrix for linear regression analysis\n",
        "pd.DataFrame({'y': y_tr, 'x1': z1, 'x2': z2}).to_csv('design_matrix.csv', index=False)\n",
        "\n",
        "# Save predictions of test data\n",
        "pd.DataFrame({\n",
        "    'filenames': f_te, \n",
        "    'true_age': y_te, \n",
        "    'pred_age_deep': y1.round().astype(int),\n",
        "    'pred_age_length': y2.round().astype(int), \n",
        "    'pred_age_both': y3.round().astype(int),\n",
        "    'sex': df.iloc[test_idx]['sex']}).to_csv('/content/drive/Othercomputers/Min bærbare datamaskin/UiT/predictions.csv', index=False)"
      ],
      "execution_count": null,
      "outputs": []
    }
  ]
}